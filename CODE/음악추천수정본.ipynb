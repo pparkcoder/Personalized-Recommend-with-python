{
 "cells": [
  {
   "cell_type": "code",
   "execution_count": null,
   "id": "aa00bc19",
   "metadata": {},
   "outputs": [],
   "source": [
    "import pandas as pd\n",
    "import urllib.request\n",
    "import csv\n",
    "from sklearn.feature_extraction.text import TfidfVectorizer\n",
    "from sklearn.metrics.pairwise import linear_kernel\n",
    "from bs4 import BeautifulSoup"
   ]
  },
  {
   "cell_type": "markdown",
   "id": "b44fb91d",
   "metadata": {},
   "source": [
    "## User Input and Crawling\n",
    "<br>\n",
    "1. 사용자에게 가수명, 곡명 입력 받기\n",
    "<br>\n",
    "2. 사용자가 입력한 곡의 가사 크롤링"
   ]
  },
  {
   "cell_type": "code",
   "execution_count": null,
   "id": "81382720",
   "metadata": {},
   "outputs": [],
   "source": [
    "while True :\n",
    "    print(\"가수명-곡명 입력 : \",end='')\n",
    "    target_singer, target_title = input().split('-')\n",
    "    url = 'https://search.naver.com/search.naver?where=nexearch&sm=top_hty&fbm=1&ie=utf8&query=' +urllib.parse.quote_plus(target_singer +' '+target_title + ' 곡정보')\n",
    "    html = urllib.request.urlopen(url).read()\n",
    "    soup = BeautifulSoup(html, 'html.parser')\n",
    "    \n",
    "    try :\n",
    "        target_album = soup.select('.info.txt_4 > .info_group')[1].text.split()[1]\n",
    "        target_genre = soup.select('.info.txt_4 > .info_group')[3].text.strip().split()[1]\n",
    "        target_days = soup.select('.info.txt_4 > .info_group')[2].text.strip().split()[1].replace('.','')\n",
    "        season = soup.select('.info.txt_4 > .info_group')[2].text.strip().split('.')[1]\n",
    "        if '03' <= season and season <= '05':\n",
    "            target_season = '봄'\n",
    "        elif '06' <= season and season <= '08':\n",
    "            target_season = '여름'\n",
    "        elif '09' <= season and season <= '11':\n",
    "            target_season = '가을'\n",
    "        else:\n",
    "            target_season = '겨울'\n",
    "        target_lyric = soup.select('.text.no_ellipsis.type_center._content_text')[0].get_text()\n",
    "        break\n",
    "        \n",
    "    # 곡이 없거나 잘못 입력된 경우    \n",
    "    except :\n",
    "        print(\"가사가 없거나 잘못된 입력입니다. 다시 입력해 주세요\")\n",
    "        pass\n",
    "    \n",
    "print(\"장르 : \" + target_genre + \"\\n\" + \"발매계절 : \" + target_season)\n",
    "\n",
    "target_singer = target_singer.strip()\n",
    "target_title = target_title.strip()\n",
    "target_genre = target_genre.strip()\n",
    "target_season = target_season.strip()\n",
    "target_lyric = target_lyric.strip()"
   ]
  },
  {
   "cell_type": "markdown",
   "id": "3860e2aa",
   "metadata": {},
   "source": [
    "## data load\n",
    "<br>\n",
    "1.약 42,000개의 크롤링 된 데이터 셋 읽어오기\n",
    "<BR>\n",
    "2.사용자가 입력한 곡이 있는지 검사\n",
    "    <BR>\n",
    "3.없다면 추가 후 새로 data load"
   ]
  },
  {
   "cell_type": "code",
   "execution_count": null,
   "id": "c4a10cd4",
   "metadata": {},
   "outputs": [],
   "source": [
    "stop = 0\n",
    "while True:\n",
    "    data = pd.read_csv('가사전처리수정본.csv', low_memory=False)\n",
    "    if stop == 1 :\n",
    "        break\n",
    "    \n",
    "    # 사용자가 입력한 곳이 데이터 셋에 있는지 확인\n",
    "    for i in range(len(data[[\"제목\",\"가수\"]])) :\n",
    "        temp_title = str(data.loc[i][0]).replace(' ','')\n",
    "        temp_singer = str(data.loc[i][1]).replace(' ','')\n",
    "        if (target_title in temp_title) and (target_singer in temp_singer) :\n",
    "            stop = 1\n",
    "            break\n",
    "    \n",
    "    # 없다면, 입력한 곡 추가\n",
    "    if stop == 0 :\n",
    "        temp = [target_title,target_singer,target_genre,target_days,target_album,target_lyric,target_season]\n",
    "        with open('가사전처리수정본.csv','a',encoding='utf-8-sig',newline='') as f:\n",
    "            Writer = csv.writer(f)\n",
    "            Writer.writerow(temp)\n",
    "        stop = 1"
   ]
  },
  {
   "cell_type": "code",
   "execution_count": null,
   "id": "35388042",
   "metadata": {},
   "outputs": [],
   "source": [
    "if data['가사'].isnull().sum() :\n",
    "    data['가사'] = data['가사'].fillna('')\n",
    "else :\n",
    "    print(\"결측값 없음\")"
   ]
  },
  {
   "cell_type": "code",
   "execution_count": null,
   "id": "93461a21",
   "metadata": {},
   "outputs": [],
   "source": [
    "data.index "
   ]
  },
  {
   "cell_type": "code",
   "execution_count": null,
   "id": "747719a0",
   "metadata": {},
   "outputs": [],
   "source": [
    "#data = data.head(20000)"
   ]
  },
  {
   "cell_type": "code",
   "execution_count": null,
   "id": "4cf1a59b",
   "metadata": {},
   "outputs": [],
   "source": [
    "# ngram_range = (1,2) 단어의 묶음을 1개부터 2개까지 설정\n",
    "tfidf = TfidfVectorizer(stop_words='english',analyzer = 'word',  min_df=2, ngram_range = (1, 2), sublinear_tf=True)\n",
    "\n",
    "# 가사에 대해서 tf-idf 수행\n",
    "tfidf_matrix = tfidf.fit_transform(data['가사'])\n",
    "print(tfidf_matrix.shape)\n",
    "\n",
    "tfidf.fit(data['가사']) # 벡터라이저가 단어들을 학습합니다.\n",
    "sorted(tfidf.vocabulary_.items(),reverse=True) # 단어사전을 정렬합니다. \n",
    "tfidf.vocabulary_ # 벡터라이저가 학습한 단어사전을 출력합니다. "
   ]
  },
  {
   "cell_type": "markdown",
   "id": "7d49dd35",
   "metadata": {},
   "source": [
    "## 코사인 유사도 실행"
   ]
  },
  {
   "cell_type": "code",
   "execution_count": null,
   "id": "35a64d32",
   "metadata": {},
   "outputs": [],
   "source": [
    "cosine_sim = linear_kernel(tfidf_matrix, tfidf_matrix) "
   ]
  },
  {
   "cell_type": "code",
   "execution_count": null,
   "id": "0e056906",
   "metadata": {},
   "outputs": [],
   "source": [
    "indices = pd.Series(data.index,index= [ data['제목'], data['가수']]  ).drop_duplicates() \n",
    "#print(len(data))\n",
    "#print(indices.index)    \n",
    "#print(indices.head())\n",
    "idx = indices[(target_title,target_singer)][0]\n",
    "print(idx)"
   ]
  },
  {
   "cell_type": "markdown",
   "id": "467d8c0c",
   "metadata": {},
   "source": [
    "## 유사곡 추천\n",
    "1.사용자가 입력한 곡을 기준으로 장르, 발매계절이 같은 순으로 출력\n",
    "<br>\n",
    "2.장르가 같은것이 없다면, 발매계절이 같은 순으로 출력"
   ]
  },
  {
   "cell_type": "code",
   "execution_count": null,
   "id": "c79360a2",
   "metadata": {},
   "outputs": [],
   "source": [
    "def get_recommendations(title, singer, genre, season, cosine_sim=cosine_sim):\n",
    "    # 선택한 음악의 가수, 제목으로부터 해당되는 인덱스를 받아옵니다. 이제 선택한 음악를 가지고 연산할 수 있습니다.\n",
    "    #idx = indices[title]\n",
    "    idx = indices[(title, singer)][0]\n",
    "    \n",
    "    # 모든 음악에 대해서 해당 음악과의 유사도를 구합니다.\n",
    "    sim_scores = list(enumerate(cosine_sim[idx]))\n",
    " \n",
    "    # 유사도에 따라 음악들을 정렬합니다.\n",
    "    sim_scores = sorted(sim_scores, key=lambda x: x[1], reverse=True)\n",
    "\n",
    "    # 가장 유사한 100개의 음악을 받아옵니다.\n",
    "    sim_scores = sim_scores[1:1001]\n",
    "\n",
    "    #코사인값은 두 벡터의 방향이 완전히 같을 경우 1, 90°의 각을 이룰 경우 0, 180°로 완전히 반대 방향인 경우 -1의 값을 갖음\n",
    "    #print(sim_scores)\n",
    "    \n",
    "    # 가장 유사한 1000개의 음악의 인덱스를 받아옵니다.\n",
    "    movie_indices = [i[0] for i in sim_scores]\n",
    "\n",
    "    # 가장 유사한 10개의 곡 출력\n",
    "    flag = num = 0\n",
    "    for i in range(len(movie_indices)) :\n",
    "        if num == 10 :\n",
    "            break\n",
    "        if (data['장르'].iloc[movie_indices[i]] not in genre) or (data['계절'].iloc[movie_indices[i]] != season) :\n",
    "            continue\n",
    "        num += 1\n",
    "        flag = 1\n",
    "        a = data['가수'].iloc[movie_indices[i]] \n",
    "        b = data['제목'].iloc[movie_indices[i]]\n",
    "        c = data['장르'].iloc[movie_indices[i]]\n",
    "        print('['+a+'] '+b+' ('+c+')') \n",
    "    \n",
    "    if flag == 0 :\n",
    "        for i in range(len(movie_indices)) :\n",
    "            if num == 10 :\n",
    "                break\n",
    "            if (data['계절'].iloc[movie_indices[i]] != season) :\n",
    "                continue\n",
    "            num += 1\n",
    "            a = data['가수'].iloc[movie_indices[i]] \n",
    "            b = data['제목'].iloc[movie_indices[i]]\n",
    "            c = data['장르'].iloc[movie_indices[i]]\n",
    "            print('['+a+'] '+b+' ('+c+')') "
   ]
  },
  {
   "cell_type": "code",
   "execution_count": null,
   "id": "f161d7f6",
   "metadata": {},
   "outputs": [],
   "source": [
    "get_recommendations(target_title, target_singer, target_genre, target_season)"
   ]
  }
 ],
 "metadata": {
  "kernelspec": {
   "display_name": "Python 3",
   "language": "python",
   "name": "python3"
  },
  "language_info": {
   "codemirror_mode": {
    "name": "ipython",
    "version": 3
   },
   "file_extension": ".py",
   "mimetype": "text/x-python",
   "name": "python",
   "nbconvert_exporter": "python",
   "pygments_lexer": "ipython3",
   "version": "3.8.8"
  }
 },
 "nbformat": 4,
 "nbformat_minor": 5
}
